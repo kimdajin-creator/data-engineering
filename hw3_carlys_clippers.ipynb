{
 "cells": [
  {
   "cell_type": "code",
   "execution_count": 7,
   "id": "5f4901d6-68e7-4f32-b143-e95d66d8f159",
   "metadata": {},
   "outputs": [],
   "source": [
    "hairstyles = [\"bouffant\", \"pixie\", \"dreadlocks\", \"crew\", \"bowl\", \"bob\", \"mohawk\", \"flattop\"]\n",
    "prices = [30, 25, 40, 20, 20, 35, 50, 35]\n",
    "last_week = [2, 3, 5, 8, 4, 4, 6, 2]"
   ]
  },
  {
   "cell_type": "code",
   "execution_count": 10,
   "id": "b397a451-fdbf-43e3-bce6-5ea7490c39f2",
   "metadata": {},
   "outputs": [
    {
     "name": "stdout",
     "output_type": "stream",
     "text": [
      "Average price is 31.875\n"
     ]
    }
   ],
   "source": [
    "total_price = 0\n",
    "for i in prices:\n",
    "    total_price += i\n",
    "average_price = total_price / len(prices)\n",
    "print(\"Average price is\", average_price)"
   ]
  },
  {
   "cell_type": "code",
   "execution_count": 11,
   "id": "36245648-f6bf-4237-a1cd-f131ebe0c7bb",
   "metadata": {},
   "outputs": [
    {
     "name": "stdout",
     "output_type": "stream",
     "text": [
      "[25, 20, 35, 15, 15, 30, 45, 30]\n"
     ]
    }
   ],
   "source": [
    "new_prices = [i - 5 for i in prices]\n",
    "print(new_prices)"
   ]
  },
  {
   "cell_type": "code",
   "execution_count": 12,
   "id": "10b29181-4e85-4216-9540-6a83f6542329",
   "metadata": {},
   "outputs": [
    {
     "name": "stdout",
     "output_type": "stream",
     "text": [
      "1085\n",
      "Average daily revenue is 155.0\n"
     ]
    }
   ],
   "source": [
    "total_revenue = 0\n",
    "for i in range(len(hairstyles)):\n",
    "    total_revenue += prices[i] * last_week[i]\n",
    "print(total_revenue)\n",
    "average_daily_revenue = total_revenue / 7\n",
    "print(\"Average daily revenue is\", average_daily_revenue)"
   ]
  },
  {
   "cell_type": "code",
   "execution_count": 14,
   "id": "cbd81362-f519-4f2b-bbdf-625e0848c891",
   "metadata": {},
   "outputs": [
    {
     "name": "stdout",
     "output_type": "stream",
     "text": [
      "['bouffant', 'pixie', 'crew', 'bowl']\n"
     ]
    }
   ],
   "source": [
    "cuts_under_30 = [hairstyles[i] for i in range(len(new_prices)-1) if new_prices[i] < 30]\n",
    "print(cuts_under_30)"
   ]
  }
 ],
 "metadata": {
  "kernelspec": {
   "display_name": "Python 3 (ipykernel)",
   "language": "python",
   "name": "python3"
  },
  "language_info": {
   "codemirror_mode": {
    "name": "ipython",
    "version": 3
   },
   "file_extension": ".py",
   "mimetype": "text/x-python",
   "name": "python",
   "nbconvert_exporter": "python",
   "pygments_lexer": "ipython3",
   "version": "3.9.12"
  }
 },
 "nbformat": 4,
 "nbformat_minor": 5
}
