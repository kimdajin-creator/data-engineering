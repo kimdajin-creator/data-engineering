{
 "cells": [
  {
   "cell_type": "code",
   "execution_count": 3,
   "id": "43824308-d09a-4ed6-bd22-60b1ed3afbf0",
   "metadata": {},
   "outputs": [],
   "source": [
    "month_l = ['쌍', '쇠', '복', '돌', '팽', '육', '쌍', '개', '칠', '갑', '삼', '방']"
   ]
  },
  {
   "cell_type": "code",
   "execution_count": 4,
   "id": "d363d8cf-6bdc-4e7b-b6cd-4421daef1008",
   "metadata": {},
   "outputs": [],
   "source": [
    "day_l = ['봉', '구', '욕', '포', '똥', '삼', '식', '석', '놈', '님', '년', '돌', '단', '득', '방', '질', '장', '걸', '래', '룡', '동', '순', '자', '박', '창', '언', '것', '포', '만', '단', '국']"
   ]
  },
  {
   "cell_type": "code",
   "execution_count": 11,
   "id": "98b00515-8955-4a7d-ba91-c0cb03fcf189",
   "metadata": {},
   "outputs": [],
   "source": [
    "def get_my_chosun_name(family_name, month, day):\n",
    "    chosun_name = family_name + month_l[month - 1] + day_l[day - 1]\n",
    "    print(\"당신의 조선시대 이름은\", chosun_name, \"입니다.\")"
   ]
  },
  {
   "cell_type": "code",
   "execution_count": 12,
   "id": "e81d105a-5cb8-42db-8450-7ba8c0090694",
   "metadata": {},
   "outputs": [
    {
     "name": "stdout",
     "output_type": "stream",
     "text": [
      "당신의 조선시대 이름은 김쌍삼 입니다.\n"
     ]
    }
   ],
   "source": [
    "get_my_chosun_name('김', 1, 6)"
   ]
  }
 ],
 "metadata": {
  "kernelspec": {
   "display_name": "Python 3 (ipykernel)",
   "language": "python",
   "name": "python3"
  },
  "language_info": {
   "codemirror_mode": {
    "name": "ipython",
    "version": 3
   },
   "file_extension": ".py",
   "mimetype": "text/x-python",
   "name": "python",
   "nbconvert_exporter": "python",
   "pygments_lexer": "ipython3",
   "version": "3.9.12"
  }
 },
 "nbformat": 4,
 "nbformat_minor": 5
}
